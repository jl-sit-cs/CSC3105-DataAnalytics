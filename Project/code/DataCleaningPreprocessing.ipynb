{
 "cells": [
  {
   "cell_type": "markdown",
   "id": "cf1ec7f7-0694-4809-b117-66e75dcf0f66",
   "metadata": {},
   "source": [
    "## Check if the packages are installed and all function parameters"
   ]
  },
  {
   "cell_type": "code",
   "execution_count": 1,
   "id": "f01799b8-62ba-4b2c-895a-2f4158fef455",
   "metadata": {},
   "outputs": [
    {
     "name": "stdout",
     "output_type": "stream",
     "text": [
      "pandas is installed\n",
      "matplotlib is installed\n",
      "numpy is installed\n"
     ]
    }
   ],
   "source": [
    "import importlib.util\n",
    "import sys\n",
    "import subprocess\n",
    "\n",
    "def check_installation_and_install(package_name):\n",
    "    spec = importlib.util.find_spec(package_name)\n",
    "    if spec is None:\n",
    "        subprocess.check_call([sys.executable, \"-m\", \"pip\", \"install\", package_name])\n",
    "    else:\n",
    "        print(package_name + \" is installed\");\n",
    "\n",
    "def save_cleaned_csv(dataframe,filename):\n",
    "    os.makedirs(\"Cleaned_Data\", exist_ok=True)  # Ensures directory exists\n",
    "    dataframe.to_csv(f\"Cleaned_Data/{filename}.csv\")\n",
    "\n",
    "check_installation_and_install(\"pandas\")\n",
    "check_installation_and_install(\"matplotlib\")\n",
    "check_installation_and_install(\"numpy\")"
   ]
  },
  {
   "cell_type": "markdown",
   "id": "b51e5c8a-1fae-472c-8f68-fcd70e34eb29",
   "metadata": {},
   "source": [
    "## Import Packages"
   ]
  },
  {
   "cell_type": "code",
   "execution_count": 2,
   "id": "03b7b7bc-c2f0-49e3-ab52-c90ccef17291",
   "metadata": {},
   "outputs": [],
   "source": [
    "import pandas as pd\n",
    "import matplotlib as plt\n",
    "import numpy as np\n",
    "import os"
   ]
  },
  {
   "cell_type": "markdown",
   "id": "5c272dbe-af6f-421d-9435-9fa18e554d3a",
   "metadata": {},
   "source": [
    "## Insert Dataset to clean and preprocess"
   ]
  },
  {
   "cell_type": "code",
   "execution_count": 3,
   "id": "b22ecd7c-ef3d-494b-94df-ba49b85ad6bf",
   "metadata": {},
   "outputs": [],
   "source": [
    "file_directory = \"../dataset\"\n",
    "\n",
    "office_1_df = pd.read_csv(os.path.join(file_directory,\"uwb_dataset_part1.csv\"))\n",
    "office_2_df = pd.read_csv(os.path.join(file_directory,\"uwb_dataset_part2.csv\"))\n",
    "small_apartment_df = pd.read_csv(os.path.join(file_directory,\"uwb_dataset_part3.csv\"))\n",
    "small_workshop_df = pd.read_csv(os.path.join(file_directory,\"uwb_dataset_part4.csv\"))\n",
    "kitchen_livingroom_df = pd.read_csv(os.path.join(file_directory,\"uwb_dataset_part5.csv\"))\n",
    "bed_room_df = pd.read_csv(os.path.join(file_directory,\"uwb_dataset_part6.csv\"))\n",
    "boiler_room_df = pd.read_csv(os.path.join(file_directory,\"uwb_dataset_part7.csv\"))"
   ]
  },
  {
   "cell_type": "code",
   "execution_count": null,
   "id": "13225d0d-7a0a-4a34-9ce3-c55bdfaa7f62",
   "metadata": {},
   "outputs": [],
   "source": []
  },
  {
   "cell_type": "code",
   "execution_count": null,
   "id": "3771e572-bb07-4bbc-94f3-897de1f4a7e3",
   "metadata": {},
   "outputs": [],
   "source": []
  }
 ],
 "metadata": {
  "kernelspec": {
   "display_name": "Python 3 (ipykernel)",
   "language": "python",
   "name": "python3"
  },
  "language_info": {
   "codemirror_mode": {
    "name": "ipython",
    "version": 3
   },
   "file_extension": ".py",
   "mimetype": "text/x-python",
   "name": "python",
   "nbconvert_exporter": "python",
   "pygments_lexer": "ipython3",
   "version": "3.10.4"
  }
 },
 "nbformat": 4,
 "nbformat_minor": 5
}
