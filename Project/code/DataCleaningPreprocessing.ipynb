{
 "cells": [
  {
   "cell_type": "markdown",
   "id": "cf1ec7f7-0694-4809-b117-66e75dcf0f66",
   "metadata": {},
   "source": [
    "## Check if the packages are installed and all function parameters"
   ]
  },
  {
   "cell_type": "code",
   "execution_count": 1,
   "id": "f01799b8-62ba-4b2c-895a-2f4158fef455",
   "metadata": {},
   "outputs": [
    {
     "name": "stdout",
     "output_type": "stream",
     "text": [
      "pandas is installed\n",
      "matplotlib is installed\n",
      "numpy is installed\n"
     ]
    }
   ],
   "source": [
    "import importlib.util\n",
    "import sys\n",
    "import subprocess\n",
    "\n",
    "def check_installation_and_install(package_name):\n",
    "    spec = importlib.util.find_spec(package_name)\n",
    "    if spec is None:\n",
    "        subprocess.check_call([sys.executable, \"-m\", \"pip\", \"install\", package_name])\n",
    "    else:\n",
    "        print(package_name + \" is installed\");\n",
    "\n",
    "def save_cleaned_csv(dataframe,filename):\n",
    "    os.makedirs(\"Cleaned_Data\", exist_ok=True)  # Ensures directory exists\n",
    "    dataframe.to_csv(f\"Cleaned_Data/{filename}.csv\")\n",
    "\n",
    "check_installation_and_install(\"pandas\")\n",
    "check_installation_and_install(\"matplotlib\")\n",
    "check_installation_and_install(\"numpy\")"
   ]
  },
  {
   "cell_type": "markdown",
   "id": "b51e5c8a-1fae-472c-8f68-fcd70e34eb29",
   "metadata": {},
   "source": [
    "## Import Packages"
   ]
  },
  {
   "cell_type": "code",
   "execution_count": 2,
   "id": "03b7b7bc-c2f0-49e3-ab52-c90ccef17291",
   "metadata": {},
   "outputs": [],
   "source": [
    "import pandas as pd\n",
    "import matplotlib as plt\n",
    "import numpy as np\n",
    "import os"
   ]
  },
  {
   "cell_type": "markdown",
   "id": "5c272dbe-af6f-421d-9435-9fa18e554d3a",
   "metadata": {},
   "source": [
    "## Insert Dataset to clean and preprocess"
   ]
  },
  {
   "cell_type": "code",
   "execution_count": 3,
   "id": "b22ecd7c-ef3d-494b-94df-ba49b85ad6bf",
   "metadata": {},
   "outputs": [],
   "source": [
    "file_directory = \"../dataset\"\n",
    "\n",
    "office_1_df = pd.read_csv(os.path.join(file_directory,\"uwb_dataset_part1.csv\"))\n",
    "office_2_df = pd.read_csv(os.path.join(file_directory,\"uwb_dataset_part2.csv\"))\n",
    "small_apartment_df = pd.read_csv(os.path.join(file_directory,\"uwb_dataset_part3.csv\"))\n",
    "small_workshop_df = pd.read_csv(os.path.join(file_directory,\"uwb_dataset_part4.csv\"))\n",
    "kitchen_livingroom_df = pd.read_csv(os.path.join(file_directory,\"uwb_dataset_part5.csv\"))\n",
    "bed_room_df = pd.read_csv(os.path.join(file_directory,\"uwb_dataset_part6.csv\"))\n",
    "boiler_room_df = pd.read_csv(os.path.join(file_directory,\"uwb_dataset_part7.csv\"))\n",
    "\n",
    "df_array = [office_1_df,office_2_df,small_apartment_df,small_workshop_df,kitchen_livingroom_df,bed_room_df,boiler_room_df]"
   ]
  },
  {
   "cell_type": "markdown",
   "id": "d324f085-3f81-4039-8ccf-463ae161b92b",
   "metadata": {},
   "source": [
    "## Check Any Missing Value"
   ]
  },
  {
   "cell_type": "code",
   "execution_count": 4,
   "id": "b4a4ac7a-23ec-477e-8cb7-534126dc047c",
   "metadata": {},
   "outputs": [
    {
     "name": "stdout",
     "output_type": "stream",
     "text": [
      "DataFrame 1 Missing Values:\n",
      "NLOS       0\n",
      "RANGE      0\n",
      "FP_IDX     0\n",
      "FP_AMP1    0\n",
      "FP_AMP2    0\n",
      "          ..\n",
      "CIR1011    0\n",
      "CIR1012    0\n",
      "CIR1013    0\n",
      "CIR1014    0\n",
      "CIR1015    0\n",
      "Length: 1031, dtype: int64\n",
      "------------------------------\n",
      "DataFrame 2 Missing Values:\n",
      "NLOS       0\n",
      "RANGE      0\n",
      "FP_IDX     0\n",
      "FP_AMP1    0\n",
      "FP_AMP2    0\n",
      "          ..\n",
      "CIR1011    0\n",
      "CIR1012    0\n",
      "CIR1013    0\n",
      "CIR1014    0\n",
      "CIR1015    0\n",
      "Length: 1031, dtype: int64\n",
      "------------------------------\n",
      "DataFrame 3 Missing Values:\n",
      "NLOS       0\n",
      "RANGE      0\n",
      "FP_IDX     0\n",
      "FP_AMP1    0\n",
      "FP_AMP2    0\n",
      "          ..\n",
      "CIR1011    0\n",
      "CIR1012    0\n",
      "CIR1013    0\n",
      "CIR1014    0\n",
      "CIR1015    0\n",
      "Length: 1031, dtype: int64\n",
      "------------------------------\n",
      "DataFrame 4 Missing Values:\n",
      "NLOS       0\n",
      "RANGE      0\n",
      "FP_IDX     0\n",
      "FP_AMP1    0\n",
      "FP_AMP2    0\n",
      "          ..\n",
      "CIR1011    0\n",
      "CIR1012    0\n",
      "CIR1013    0\n",
      "CIR1014    0\n",
      "CIR1015    0\n",
      "Length: 1031, dtype: int64\n",
      "------------------------------\n",
      "DataFrame 5 Missing Values:\n",
      "NLOS       0\n",
      "RANGE      0\n",
      "FP_IDX     0\n",
      "FP_AMP1    0\n",
      "FP_AMP2    0\n",
      "          ..\n",
      "CIR1011    0\n",
      "CIR1012    0\n",
      "CIR1013    0\n",
      "CIR1014    0\n",
      "CIR1015    0\n",
      "Length: 1031, dtype: int64\n",
      "------------------------------\n",
      "DataFrame 6 Missing Values:\n",
      "NLOS       0\n",
      "RANGE      0\n",
      "FP_IDX     0\n",
      "FP_AMP1    0\n",
      "FP_AMP2    0\n",
      "          ..\n",
      "CIR1011    0\n",
      "CIR1012    0\n",
      "CIR1013    0\n",
      "CIR1014    0\n",
      "CIR1015    0\n",
      "Length: 1031, dtype: int64\n",
      "------------------------------\n",
      "DataFrame 7 Missing Values:\n",
      "NLOS       0\n",
      "RANGE      0\n",
      "FP_IDX     0\n",
      "FP_AMP1    0\n",
      "FP_AMP2    0\n",
      "          ..\n",
      "CIR1011    0\n",
      "CIR1012    0\n",
      "CIR1013    0\n",
      "CIR1014    0\n",
      "CIR1015    0\n",
      "Length: 1031, dtype: int64\n",
      "------------------------------\n"
     ]
    }
   ],
   "source": [
    "def check_missing_value(df_array):\n",
    "    for i, df in enumerate(df_array, start=1):\n",
    "        print(f\"DataFrame {i} Missing Values:\")\n",
    "        print(df.isnull().sum())\n",
    "        print(\"-\" * 30)\n",
    "\n",
    "check_missing_value(df_array)"
   ]
  },
  {
   "cell_type": "markdown",
   "id": "f023595a-c81a-4a79-8229-8981230cf142",
   "metadata": {},
   "source": [
    "## Check for any duplicated values|"
   ]
  },
  {
   "cell_type": "code",
   "execution_count": null,
   "id": "8d9bd52a-3c5d-41ee-b3a3-d0e00fd9d985",
   "metadata": {},
   "outputs": [],
   "source": [
    "def check_duplicated_values(df_array):\n",
    "      for i, df in enumerate(df_array, start=1):\n",
    "           duplicate = df[df.duplicated()]\n",
    " \n",
    "            print(\"Duplicate Rows :\")\n",
    " \n",
    "            # Print the resultant Dataframe\n",
    "            duplicate\n",
    "\n",
    "che    "
   ]
  },
  {
   "cell_type": "markdown",
   "id": "a9c50180-4b13-4617-887d-03c4d9a31610",
   "metadata": {},
   "source": [
    "## Clean Column "
   ]
  },
  {
   "cell_type": "code",
   "execution_count": 5,
   "id": "3771e572-bb07-4bbc-94f3-897de1f4a7e3",
   "metadata": {},
   "outputs": [],
   "source": [
    "def clean_column(df_array, columns_to_drop):\n",
    "    for df in df_array:\n",
    "        df.drop(columns_to_drop, axis=1)\n",
    "\n",
    "clean_column(df_array,['CH','PREAM_LEN','BITRATE','PRFR'])"
   ]
  }
 ],
 "metadata": {
  "kernelspec": {
   "display_name": "Python 3 (ipykernel)",
   "language": "python",
   "name": "python3"
  },
  "language_info": {
   "codemirror_mode": {
    "name": "ipython",
    "version": 3
   },
   "file_extension": ".py",
   "mimetype": "text/x-python",
   "name": "python",
   "nbconvert_exporter": "python",
   "pygments_lexer": "ipython3",
   "version": "3.10.4"
  }
 },
 "nbformat": 4,
 "nbformat_minor": 5
}
