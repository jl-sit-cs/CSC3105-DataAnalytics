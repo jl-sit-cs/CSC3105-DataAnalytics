{
 "cells": [
  {
   "cell_type": "code",
   "execution_count": 3,
   "id": "29b153b0-a963-444a-aefe-30d1f11d3ce3",
   "metadata": {},
   "outputs": [
    {
     "name": "stdout",
     "output_type": "stream",
     "text": [
      "pandas is installed\n",
      "numpy is installed\n"
     ]
    }
   ],
   "source": [
    "import importlib.util\n",
    "import sys\n",
    "import subprocess\n",
    "\n",
    "def check_installation_and_install(package_name):\n",
    "    spec = importlib.util.find_spec(package_name)\n",
    "    if spec is None:\n",
    "        subprocess.check_call([sys.executable, \"-m\", \"pip\", \"install\", package_name])\n",
    "    else:\n",
    "        print(package_name + \" is installed\");\n",
    "\n",
    "check_installation_and_install(\"pandas\")\n",
    "check_installation_and_install(\"matplotlib\")\n",
    "check_installation_and_install(\"numpy\")\n",
    "check_installation_and_install(\"wfdb\")"
   ]
  },
  {
   "cell_type": "code",
   "execution_count": 4,
   "id": "27e3ee07-6a26-441b-b65b-cec2d7303c9f",
   "metadata": {},
   "outputs": [],
   "source": [
    "import pandas as pd\n",
    "import matplotlib as plt\n",
    "import numpy as np"
   ]
  },
  {
   "cell_type": "code",
   "execution_count": null,
   "id": "08e7470d-689e-4ed1-852d-5c8ea935a061",
   "metadata": {},
   "outputs": [],
   "source": []
  }
 ],
 "metadata": {
  "kernelspec": {
   "display_name": "Python 3 (ipykernel)",
   "language": "python",
   "name": "python3"
  },
  "language_info": {
   "codemirror_mode": {
    "name": "ipython",
    "version": 3
   },
   "file_extension": ".py",
   "mimetype": "text/x-python",
   "name": "python",
   "nbconvert_exporter": "python",
   "pygments_lexer": "ipython3",
   "version": "3.10.4"
  }
 },
 "nbformat": 4,
 "nbformat_minor": 5
}
