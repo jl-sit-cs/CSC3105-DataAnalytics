{
 "cells": [
  {
   "cell_type": "markdown",
   "id": "cf1ec7f7-0694-4809-b117-66e75dcf0f66",
   "metadata": {},
   "source": [
    "## Check if the packages are installed"
   ]
  },
  {
   "cell_type": "code",
   "execution_count": null,
   "id": "f01799b8-62ba-4b2c-895a-2f4158fef455",
   "metadata": {},
   "outputs": [
    {
     "name": "stdout",
     "output_type": "stream",
     "text": [
      "pandas is installed\n",
      "matplotlib is installed\n",
      "numpy is installed\n"
     ]
    }
   ],
   "source": [
    "import importlib.util\n",
    "import sys\n",
    "import subprocess\n",
    "\n",
    "def check_installation_and_install(package_name):\n",
    "    spec = importlib.util.find_spec(package_name)\n",
    "    if spec is None:\n",
    "        subprocess.check_call([sys.executable, \"-m\", \"pip\", \"install\", package_name])\n",
    "    else:\n",
    "        print(package_name + \" is installed\");\n",
    "\n",
    "check_installation_and_install(\"pandas\")\n",
    "check_installation_and_install(\"matplotlib\")\n",
    "check_installation_and_install(\"numpy\")\n",
    "check_installation_and_install(\"wfdb\")"
   ]
  },
  {
   "cell_type": "markdown",
   "id": "b51e5c8a-1fae-472c-8f68-fcd70e34eb29",
   "metadata": {},
   "source": [
    "## Import Packages"
   ]
  },
  {
   "cell_type": "code",
   "execution_count": 2,
   "id": "03b7b7bc-c2f0-49e3-ab52-c90ccef17291",
   "metadata": {},
   "outputs": [],
   "source": [
    "import pandas as pd\n",
    "import matplotlib as plt\n",
    "import numpy as np"
   ]
  },
  {
   "cell_type": "code",
   "execution_count": null,
   "id": "b22ecd7c-ef3d-494b-94df-ba49b85ad6bf",
   "metadata": {},
   "outputs": [],
   "source": []
  }
 ],
 "metadata": {
  "kernelspec": {
   "display_name": "Python 3 (ipykernel)",
   "language": "python",
   "name": "python3"
  },
  "language_info": {
   "codemirror_mode": {
    "name": "ipython",
    "version": 3
   },
   "file_extension": ".py",
   "mimetype": "text/x-python",
   "name": "python",
   "nbconvert_exporter": "python",
   "pygments_lexer": "ipython3",
   "version": "3.10.4"
  }
 },
 "nbformat": 4,
 "nbformat_minor": 5
}
